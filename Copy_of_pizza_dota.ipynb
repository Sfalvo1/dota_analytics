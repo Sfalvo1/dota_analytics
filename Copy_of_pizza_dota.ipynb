{
  "cells": [
    {
      "cell_type": "markdown",
      "metadata": {
        "id": "eqVe3jHcx-10"
      },
      "source": [
        "### Project ideas\n",
        "- Get last x game ids\n",
        "- Turn game json into pandas datafram\n",
        "- Functions for data analysis\n",
        "    - Average first blood time\n",
        "    - Comparing X game aspect against winrate\n",
        "        - game aspects: party size, \n",
        "    - Winrate for a party"
      ]
    },
    {
      "cell_type": "markdown",
      "metadata": {
        "id": "AX4drZ-S0qga"
      },
      "source": [
        "### game aspects\n",
        "match_id, barracks_status_dire, barracks_status_radiant, chat\n",
        "cosmetics, dire_score, dire_team_id, draft_timings\n",
        "engine, first_blood_time, game_mode, human_players\n",
        "lobby_type, match_seq_num, negative_votes, objectives\n",
        "positive_votes, radiant_gold_adv, radiant_score, radiant_team_id\n",
        "radiant_xp_adv, skill, start_time, teamfights\n",
        "tower_status_radiant, version, replay_salt, series_id\n",
        "players, patch, region, all_word_counts\n",
        "comeback, stomp, replay_url"
      ]
    },
    {
      "cell_type": "markdown",
      "metadata": {
        "id": "s-ef_6pbBIUl"
      },
      "source": [
        "### Steam Dota Key\n",
        "\n",
        "Your Steam Web API Key\n",
        "\n",
        "Key: D8298D73F5ACC2EB480114F7BC365A82\n",
        "\n",
        "Domain Name: kbdota"
      ]
    },
    {
      "cell_type": "markdown",
      "metadata": {
        "id": "sLbbwZqmBhoj"
      },
      "source": [
        "### Dota api resources\n",
        "- https://www.youtube.com/watch?v=b2Oa1aL4m5c\n",
        "\n",
        "- https://gist.github.com/arno-di-loreto/5a3df2250721fb154060\n"
      ]
    },
    {
      "cell_type": "code",
      "execution_count": null,
      "metadata": {
        "colab": {
          "base_uri": "https://localhost:8080/"
        },
        "id": "ndawYbFuaWMs",
        "outputId": "75bfdf19-162f-4bda-e470-c1d92600030f"
      },
      "outputs": [
        {
          "name": "stdout",
          "output_type": "stream",
          "text": [
            "Drive already mounted at /content/drive; to attempt to forcibly remount, call drive.mount(\"/content/drive\", force_remount=True).\n"
          ]
        }
      ],
      "source": [
        "# Imports and drive mounting\n",
        "import requests\n",
        "import json\n",
        "import numpy as np\n",
        "import pandas as pd\n",
        "import opendota_requests as odr"
      ]
    },
    {
      "cell_type": "code",
      "execution_count": null,
      "metadata": {
        "id": "9yQ9ygRjR26D"
      },
      "outputs": [],
      "source": [
        "# Useful Globals\n",
        "log_dir = '/content/drive/MyDrive/'\n",
        "\n",
        "kirk_key = \"50182695\"\n",
        "steven_key = \"35089293\"\n",
        "gp_key = \"84918943\"\n",
        "haidn_key = \"100162344\"\n",
        "demo_key = \"113857489\"\n",
        "bueno_key = \"59331845\""
      ]
    },
    {
      "cell_type": "markdown",
      "metadata": {
        "id": "PByTh6F3tFJZ"
      },
      "source": [
        "### Code playground"
      ]
    },
    {
      "cell_type": "code",
      "execution_count": null,
      "metadata": {
        "id": "DKuu5wdEla4L"
      },
      "outputs": [],
      "source": [
        "match_ids = [6276862570, 6276835355, 6276806236, 6275565195, 6275533445, \n",
        "             6275502708, 6275466541, 6273871957, 6273825774, 6273702428, \n",
        "             6272952393, 6268786706, 6268619242, 6268619242, 6267364876, \n",
        "             6267310724, 6267250113, 6267205402, 6267163445, 6267128633]"
      ]
    },
    {
      "cell_type": "code",
      "execution_count": null,
      "metadata": {
        "colab": {
          "base_uri": "https://localhost:8080/"
        },
        "id": "_r7G_qZfPdP4",
        "outputId": "50c96dad-790d-4107-e027-fdb577d4c250"
      },
      "outputs": [
        {
          "data": {
            "text/plain": [
              "{'assists': 15,\n",
              " 'deaths': 5,\n",
              " 'duration': 2203,\n",
              " 'game_mode': 22,\n",
              " 'hero_id': 63,\n",
              " 'kills': 19,\n",
              " 'leaver_status': 0,\n",
              " 'lobby_type': 0,\n",
              " 'match_id': 6316222148,\n",
              " 'party_size': 2,\n",
              " 'player_slot': 131,\n",
              " 'radiant_win': False,\n",
              " 'skill': 1,\n",
              " 'start_time': 1639266070,\n",
              " 'version': 21}"
            ]
          },
          "execution_count": 78,
          "metadata": {},
          "output_type": "execute_result"
        }
      ],
      "source": [
        "data = get_ids(steven_key)\n",
        "# write_json(steve_recents,str(log_dir)+'testfile.txt')"
      ]
    },
    {
      "cell_type": "code",
      "execution_count": null,
      "metadata": {
        "id": "r-nDvtLXMXh_"
      },
      "outputs": [],
      "source": [
        "match_list = []\n",
        "for i in range(50):\n",
        "  match_list.append(data[i][\"match_id\"])"
      ]
    },
    {
      "cell_type": "code",
      "execution_count": null,
      "metadata": {
        "id": "B24SEi_UWwUW"
      },
      "outputs": [],
      "source": [
        "for i in range(len(match_list)):\n",
        "  #check account ids\n",
        "  if steven_key in match_list[i]"
      ]
    },
    {
      "cell_type": "code",
      "execution_count": null,
      "metadata": {
        "id": "UwrY1TXtXgBe"
      },
      "outputs": [],
      "source": [
        "total_game_list = []\n",
        "for i in range(50):\n",
        "  total_game_list.append(get_game(match_list[i]))"
      ]
    },
    {
      "cell_type": "code",
      "execution_count": null,
      "metadata": {
        "id": "auBEbHH6x8ML"
      },
      "outputs": [],
      "source": [
        "total_game_list = []\n",
        "for i in range(50):\n",
        "  total_game_list.append(get_game(match_list[i]))"
      ]
    },
    {
      "cell_type": "code",
      "execution_count": null,
      "metadata": {
        "id": "xmIHc9QxxMPq"
      },
      "outputs": [],
      "source": [
        "for game in total_game_list:\n",
        "  for player in game[\"players\"]:\n",
        "    #print(player[\"personaname\"])"
      ]
    },
    {
      "cell_type": "code",
      "execution_count": null,
      "metadata": {
        "colab": {
          "base_uri": "https://localhost:8080/"
        },
        "id": "ovNDGvpAxNWr",
        "outputId": "98e04852-1499-424b-cd8b-9dc803d081b6"
      },
      "outputs": [
        {
          "data": {
            "text/plain": [
              "dict_keys(['match_id', 'player_slot', 'ability_targets', 'ability_upgrades_arr', 'ability_uses', 'account_id', 'actions', 'additional_units', 'assists', 'backpack_0', 'backpack_1', 'backpack_2', 'backpack_3', 'buyback_log', 'camps_stacked', 'connection_log', 'creeps_stacked', 'damage', 'damage_inflictor', 'damage_inflictor_received', 'damage_taken', 'damage_targets', 'deaths', 'denies', 'dn_t', 'firstblood_claimed', 'gold', 'gold_per_min', 'gold_reasons', 'gold_spent', 'gold_t', 'hero_damage', 'hero_healing', 'hero_hits', 'hero_id', 'item_0', 'item_1', 'item_2', 'item_3', 'item_4', 'item_5', 'item_neutral', 'item_uses', 'kill_streaks', 'killed', 'killed_by', 'kills', 'kills_log', 'lane_pos', 'last_hits', 'leaver_status', 'level', 'lh_t', 'life_state', 'max_hero_hit', 'multi_kills', 'net_worth', 'obs', 'obs_left_log', 'obs_log', 'obs_placed', 'party_id', 'party_size', 'performance_others', 'permanent_buffs', 'pings', 'pred_vict', 'purchase', 'purchase_log', 'randomed', 'repicked', 'roshans_killed', 'rune_pickups', 'runes', 'runes_log', 'sen', 'sen_left_log', 'sen_log', 'sen_placed', 'stuns', 'teamfight_participation', 'times', 'tower_damage', 'towers_killed', 'xp_per_min', 'xp_reasons', 'xp_t', 'personaname', 'name', 'last_login', 'radiant_win', 'start_time', 'duration', 'cluster', 'lobby_type', 'game_mode', 'is_contributor', 'patch', 'region', 'isRadiant', 'win', 'lose', 'total_gold', 'total_xp', 'kills_per_min', 'kda', 'abandons', 'neutral_kills', 'tower_kills', 'courier_kills', 'lane_kills', 'hero_kills', 'observer_kills', 'sentry_kills', 'roshan_kills', 'necronomicon_kills', 'ancient_kills', 'buyback_count', 'observer_uses', 'sentry_uses', 'lane_efficiency', 'lane_efficiency_pct', 'lane', 'lane_role', 'is_roaming', 'purchase_time', 'first_purchase_time', 'item_win', 'item_usage', 'purchase_ward_observer', 'purchase_ward_sentry', 'purchase_tpscroll', 'actions_per_min', 'life_state_dead', 'rank_tier', 'cosmetics', 'benchmarks'])"
            ]
          },
          "execution_count": 193,
          "metadata": {},
          "output_type": "execute_result"
        }
      ],
      "source": [
        "total_game_list[0][\"players\"][0].keys()"
      ]
    },
    {
      "cell_type": "code",
      "execution_count": null,
      "metadata": {
        "colab": {
          "base_uri": "https://localhost:8080/",
          "height": 358
        },
        "id": "HjR1FvD4xoNf",
        "outputId": "0a41cd90-1276-470e-a143-d0d70b8e849e"
      },
      "outputs": [
        {
          "ename": "TypeError",
          "evalue": "ignored",
          "output_type": "error",
          "traceback": [
            "\u001b[0;31m---------------------------------------------------------------------------\u001b[0m",
            "\u001b[0;31mTypeError\u001b[0m                                 Traceback (most recent call last)",
            "\u001b[0;32m<ipython-input-197-a7b50e491cf5>\u001b[0m in \u001b[0;36m<module>\u001b[0;34m()\u001b[0m\n\u001b[1;32m      2\u001b[0m \u001b[0mparty\u001b[0m \u001b[0;34m=\u001b[0m \u001b[0;34m[\u001b[0m\u001b[0;34m\"50182695\"\u001b[0m\u001b[0;34m,\u001b[0m\u001b[0;34m\"35089293\"\u001b[0m\u001b[0;34m]\u001b[0m\u001b[0;34m\u001b[0m\u001b[0;34m\u001b[0m\u001b[0m\n\u001b[1;32m      3\u001b[0m \u001b[0mgames\u001b[0m \u001b[0;34m=\u001b[0m \u001b[0mtotal_game_list\u001b[0m\u001b[0;34m\u001b[0m\u001b[0;34m\u001b[0m\u001b[0m\n\u001b[0;32m----> 4\u001b[0;31m \u001b[0mparty_win_rate\u001b[0m\u001b[0;34m(\u001b[0m\u001b[0mgames\u001b[0m\u001b[0;34m,\u001b[0m \u001b[0mparty\u001b[0m\u001b[0;34m)\u001b[0m\u001b[0;34m\u001b[0m\u001b[0;34m\u001b[0m\u001b[0m\n\u001b[0m\u001b[1;32m      5\u001b[0m \u001b[0;34m\u001b[0m\u001b[0m\n",
            "\u001b[0;32m<ipython-input-196-da87309beae5>\u001b[0m in \u001b[0;36mparty_win_rate\u001b[0;34m(games, party)\u001b[0m\n\u001b[1;32m     53\u001b[0m         \u001b[0;32mif\u001b[0m \u001b[0mis_party_in_game\u001b[0m\u001b[0;34m(\u001b[0m\u001b[0mgame\u001b[0m\u001b[0;34m,\u001b[0m \u001b[0mparty\u001b[0m\u001b[0;34m)\u001b[0m\u001b[0;34m:\u001b[0m\u001b[0;34m\u001b[0m\u001b[0;34m\u001b[0m\u001b[0m\n\u001b[1;32m     54\u001b[0m             \u001b[0mtotal_games\u001b[0m \u001b[0;34m+=\u001b[0m \u001b[0;36m1\u001b[0m\u001b[0;34m\u001b[0m\u001b[0;34m\u001b[0m\u001b[0m\n\u001b[0;32m---> 55\u001b[0;31m             \u001b[0mwins\u001b[0m \u001b[0;34m+=\u001b[0m \u001b[0mbool\u001b[0m\u001b[0;34m(\u001b[0m\u001b[0mgame\u001b[0m\u001b[0;34m[\u001b[0m\u001b[0;34m'players'\u001b[0m\u001b[0;34m]\u001b[0m\u001b[0;34m[\u001b[0m\u001b[0mparty\u001b[0m\u001b[0;34m[\u001b[0m\u001b[0;36m0\u001b[0m\u001b[0;34m]\u001b[0m\u001b[0;34m]\u001b[0m\u001b[0;34m[\u001b[0m\u001b[0;34m'win'\u001b[0m\u001b[0;34m]\u001b[0m\u001b[0;34m)\u001b[0m\u001b[0;34m\u001b[0m\u001b[0;34m\u001b[0m\u001b[0m\n\u001b[0m\u001b[1;32m     56\u001b[0m     \u001b[0;32mreturn\u001b[0m \u001b[0mwins\u001b[0m \u001b[0;34m/\u001b[0m \u001b[0mtotal_games\u001b[0m\u001b[0;34m\u001b[0m\u001b[0;34m\u001b[0m\u001b[0m\n\u001b[1;32m     57\u001b[0m \u001b[0;34m\u001b[0m\u001b[0m\n",
            "\u001b[0;31mTypeError\u001b[0m: list indices must be integers or slices, not str"
          ]
        }
      ],
      "source": [
        "# get party winrate\n",
        "party = [\"50182695\",\"35089293\"]\n",
        "games = total_game_list\n",
        "party_win_rate(games, party)\n",
        "\n"
      ]
    },
    {
      "cell_type": "code",
      "execution_count": null,
      "metadata": {},
      "outputs": [],
      "source": [
        "# dictionary testing\n",
        "d = { 1 : 'one',\n",
        "    2 : 'two',\n",
        "    3 : 'three'\n",
        "    }"
      ]
    }
  ],
  "metadata": {
    "colab": {
      "collapsed_sections": [],
      "name": "Copy of pizza_dota.ipynb",
      "provenance": []
    },
    "kernelspec": {
      "display_name": "Python 3",
      "name": "python3"
    },
    "language_info": {
      "name": "python"
    }
  },
  "nbformat": 4,
  "nbformat_minor": 0
}
